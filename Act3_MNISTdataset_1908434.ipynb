{
  "nbformat": 4,
  "nbformat_minor": 0,
  "metadata": {
    "colab": {
      "provenance": [],
      "authorship_tag": "ABX9TyN1wcoogiWA4wtSf3K4fqLq",
      "include_colab_link": true
    },
    "kernelspec": {
      "name": "python3",
      "display_name": "Python 3"
    },
    "language_info": {
      "name": "python"
    }
  },
  "cells": [
    {
      "cell_type": "markdown",
      "metadata": {
        "id": "view-in-github",
        "colab_type": "text"
      },
      "source": [
        "<a href=\"https://colab.research.google.com/github/KevinG43/ArtificialIntelligence/blob/main/Act3_MNISTdataset_1908434.ipynb\" target=\"_parent\"><img src=\"https://colab.research.google.com/assets/colab-badge.svg\" alt=\"Open In Colab\"/></a>"
      ]
    },
    {
      "cell_type": "markdown",
      "source": [
        "**Kevin Gonzalez**\n",
        "\n",
        "**Student ID 1908434**\n",
        "\n",
        "**Artificial Intelligence**\n",
        "\n",
        "**Tuesday N4**\n",
        "\n",
        "\n"
      ],
      "metadata": {
        "id": "AKZnMw1n7X8Q"
      }
    },
    {
      "cell_type": "markdown",
      "source": [
        "---\n",
        "# **Libraries**\n",
        "First we need to import the tools we will be using for the data importation and training of the model"
      ],
      "metadata": {
        "id": "8I8z3uyz7j_X"
      }
    },
    {
      "cell_type": "code",
      "source": [
        "#TensorFlow & tf.keras\n",
        "import tensorflow as tf\n",
        "from tensorflow import keras\n",
        "\n",
        "#Additional Libraries\n",
        "import numpy as np\n",
        "import matplotlib.pyplot as plt"
      ],
      "metadata": {
        "id": "4hVuRAk17zC_"
      },
      "execution_count": 1,
      "outputs": []
    },
    {
      "cell_type": "markdown",
      "source": [
        "---\n",
        "# **Importing the Dataset**\n",
        "For the next step, we will import the MNIST dataset, a set of 70,000 images in a low resolution 28x28 pixel format in a grayscale. These 70,000 include 60,000 training images and the other 10,000 being the testing set."
      ],
      "metadata": {
        "id": "OXiB1NtD8LbM"
      }
    },
    {
      "cell_type": "code",
      "execution_count": 2,
      "metadata": {
        "id": "Y13dhN4e3veQ"
      },
      "outputs": [],
      "source": [
        "mnist = keras.datasets.mnist\n",
        "\n",
        "(train_images, train_labels), (test_images, test_labels) = mnist.load_data()"
      ]
    },
    {
      "cell_type": "markdown",
      "source": [
        "The labels for this dataset are the numbers from 0 to 9, which will directly define the class."
      ],
      "metadata": {
        "id": "7PUXAUUT-4Oo"
      }
    },
    {
      "cell_type": "code",
      "source": [
        "class_names = ['0', '1', '2', '3', '4',\n",
        "               '5', '6', '7', '8', '9']"
      ],
      "metadata": {
        "id": "loneHcHUDsRf"
      },
      "execution_count": 3,
      "outputs": []
    },
    {
      "cell_type": "markdown",
      "source": [
        "##Exploring the dataset\n",
        "The following code lines are implemented to explore and confirm that the dataset is correct, by checking the format and amount of images."
      ],
      "metadata": {
        "id": "zuBY4GGUAeii"
      }
    },
    {
      "cell_type": "code",
      "source": [
        "train_images.shape"
      ],
      "metadata": {
        "colab": {
          "base_uri": "https://localhost:8080/"
        },
        "id": "iaxwlY9v_klb",
        "outputId": "abf267b6-cf3b-4339-9d66-7e951fa60ea4"
      },
      "execution_count": 4,
      "outputs": [
        {
          "output_type": "execute_result",
          "data": {
            "text/plain": [
              "(60000, 28, 28)"
            ]
          },
          "metadata": {},
          "execution_count": 4
        }
      ]
    },
    {
      "cell_type": "markdown",
      "source": [
        "This confirms that we have 60,000 28x28 training images."
      ],
      "metadata": {
        "id": "EGCk9HrrAfFr"
      }
    },
    {
      "cell_type": "code",
      "source": [
        "len(train_labels)"
      ],
      "metadata": {
        "colab": {
          "base_uri": "https://localhost:8080/"
        },
        "id": "7nQ1DiSG_wLW",
        "outputId": "ce385c38-f772-4ad9-9382-02df076b3eaf"
      },
      "execution_count": 5,
      "outputs": [
        {
          "output_type": "execute_result",
          "data": {
            "text/plain": [
              "60000"
            ]
          },
          "metadata": {},
          "execution_count": 5
        }
      ]
    },
    {
      "cell_type": "markdown",
      "source": [
        "This gives us the length of the amount of labels in the training data, which is correct; 60,000."
      ],
      "metadata": {
        "id": "Rhrurbg-AgKM"
      }
    },
    {
      "cell_type": "code",
      "source": [
        "train_labels"
      ],
      "metadata": {
        "colab": {
          "base_uri": "https://localhost:8080/"
        },
        "id": "iiRYO3rr_xSd",
        "outputId": "53f295b1-936e-4855-fcf9-167a1ee9246d"
      },
      "execution_count": 6,
      "outputs": [
        {
          "output_type": "execute_result",
          "data": {
            "text/plain": [
              "array([5, 0, 4, ..., 5, 6, 8], dtype=uint8)"
            ]
          },
          "metadata": {},
          "execution_count": 6
        }
      ]
    },
    {
      "cell_type": "markdown",
      "source": [
        "We get a few examples of the labels assigned to the training data."
      ],
      "metadata": {
        "id": "2_z3UAmXBXw4"
      }
    },
    {
      "cell_type": "code",
      "source": [
        "test_images.shape"
      ],
      "metadata": {
        "colab": {
          "base_uri": "https://localhost:8080/"
        },
        "id": "4PhM6y_W_pK8",
        "outputId": "6c3b0bb1-02fc-4f2a-9f87-4fdbe3e0630f"
      },
      "execution_count": 7,
      "outputs": [
        {
          "output_type": "execute_result",
          "data": {
            "text/plain": [
              "(10000, 28, 28)"
            ]
          },
          "metadata": {},
          "execution_count": 7
        }
      ]
    },
    {
      "cell_type": "markdown",
      "source": [
        "This is the same as the first code line, we check the amount and size of images in the testing data. 10,000 28x28 images."
      ],
      "metadata": {
        "id": "suFkf3a4Bnj9"
      }
    },
    {
      "cell_type": "code",
      "source": [
        "len(test_labels)"
      ],
      "metadata": {
        "colab": {
          "base_uri": "https://localhost:8080/"
        },
        "id": "Ua9z5cbWBmvs",
        "outputId": "295e9be5-660e-4236-c89f-e6f9d08271b8"
      },
      "execution_count": 8,
      "outputs": [
        {
          "output_type": "execute_result",
          "data": {
            "text/plain": [
              "10000"
            ]
          },
          "metadata": {},
          "execution_count": 8
        }
      ]
    },
    {
      "cell_type": "markdown",
      "source": [
        "And also the amount of image labels in the testing data."
      ],
      "metadata": {
        "id": "qXQWtL_6B23O"
      }
    },
    {
      "cell_type": "markdown",
      "source": [
        "---\n",
        "# **Pre-Processing**\n",
        "This step is an important step before training the neural network. Why? Because we need to remove all bias that can occur due to the scales that are used. In this case, we need to transform the 0 to 255 grayscale into a 0 to 1 format."
      ],
      "metadata": {
        "id": "XxeIapyP9efY"
      }
    },
    {
      "cell_type": "code",
      "source": [
        "plt.figure()\n",
        "plt.imshow(train_images[0])\n",
        "plt.grid(False)\n",
        "plt.show()"
      ],
      "metadata": {
        "colab": {
          "base_uri": "https://localhost:8080/",
          "height": 430
        },
        "id": "BC3AFCpI8M1m",
        "outputId": "a30863e9-9987-4536-b1f2-f90ed5371c4d"
      },
      "execution_count": 9,
      "outputs": [
        {
          "output_type": "display_data",
          "data": {
            "text/plain": [
              "<Figure size 640x480 with 1 Axes>"
            ],
            "image/png": "[encoded data removed]"
          },
          "metadata": {}
        }
      ]
    },
    {
      "cell_type": "markdown",
      "source": [
        "The way to convert this scale into an equivalent is diving by 255, using the following code lines."
      ],
      "metadata": {
        "id": "AIPzQmCYDBXo"
      }
    },
    {
      "cell_type": "code",
      "source": [
        "train_images = train_images / 255.0\n",
        "test_images = test_images / 255.0"
      ],
      "metadata": {
        "id": "7ENbs60GDK99"
      },
      "execution_count": 10,
      "outputs": []
    },
    {
      "cell_type": "markdown",
      "source": [
        "To confirm that the last step was performed properly, we show the first 9 training images and their class."
      ],
      "metadata": {
        "id": "plbT-QpMEMvF"
      }
    },
    {
      "cell_type": "code",
      "source": [
        "plt.figure(figsize=(10,10))\n",
        "for i in range(9):\n",
        "    plt.subplot(3,3,i+1)\n",
        "    plt.xticks([])\n",
        "    plt.yticks([])\n",
        "    plt.grid(False)\n",
        "    plt.imshow(train_images[i], cmap=plt.cm.binary)\n",
        "    plt.xlabel(class_names[train_labels[i]])\n",
        "plt.show()"
      ],
      "metadata": {
        "colab": {
          "base_uri": "https://localhost:8080/",
          "height": 826
        },
        "id": "t1N4u3RuDfk4",
        "outputId": "1625739a-b904-494c-960b-bfe56ec6a894"
      },
      "execution_count": 11,
      "outputs": [
        {
          "output_type": "display_data",
          "data": {
            "text/plain": [
              "<Figure size 1000x1000 with 9 Axes>"
            ],
            "image/png": "[encoded data removed]"
          },
          "metadata": {}
        }
      ]
    },
    {
      "cell_type": "markdown",
      "source": [
        "---\n",
        "# **Building the Model**\n",
        "Now that we have the data set up, now we have to build the neural network that will be trained, first setting up the layers and compiling."
      ],
      "metadata": {
        "id": "shNcAQgyGGt2"
      }
    },
    {
      "cell_type": "markdown",
      "source": [
        "##Setting Up the Layers\n",
        "Firstly, we need to create a system where the images will be inserted and the output we will get. \n",
        "\n",
        "The first layer, flattens the image, this means turnin the 2D matrix of 28x28 pixels into a single dimension layer of 784 pixels. Basically just reorganizing the data from the image.\n",
        "\n",
        "The second layer is dense, this meaning that the nodes are completely connected. These will process the flattened images and output the probabilities of an image falling into a class adding up to a total of 1. Each node shows the probability of the image belonging to a class."
      ],
      "metadata": {
        "id": "aigwSkh1GZ2Z"
      }
    },
    {
      "cell_type": "code",
      "source": [
        "model = keras.Sequential([\n",
        "    keras.layers.Flatten(input_shape=(28, 28)),\n",
        "    keras.layers.Dense(128, activation='relu'),\n",
        "    keras.layers.Dense(10, activation='softmax')\n",
        "])"
      ],
      "metadata": {
        "id": "T8xVqZzPGken"
      },
      "execution_count": 12,
      "outputs": []
    },
    {
      "cell_type": "markdown",
      "source": [
        "##Compiling the Model\n",
        "Before completely training the model, some additional settings are needed, which are;\n",
        "\n",
        "- Loss function : This function determines how far the algorithm's current output is from what is desired.\n",
        "- Optimizer : Shows how the model learns and changes according to the data and the loss function.\n",
        "-Metrics : Used to monitor the performance of the model, in this case, it shows the accuracy with which it classifies the images."
      ],
      "metadata": {
        "id": "ke8D3BvOKgxS"
      }
    },
    {
      "cell_type": "code",
      "source": [
        "model.compile(optimizer='adam',\n",
        "              loss='sparse_categorical_crossentropy',\n",
        "              metrics=['accuracy'])"
      ],
      "metadata": {
        "id": "SfptYzx1KkZw"
      },
      "execution_count": 13,
      "outputs": []
    },
    {
      "cell_type": "markdown",
      "source": [
        "#**Training the Model**\n",
        "The steps in training a model are the following:\n",
        "- Give the training data and labels to the model \n",
        "- The model will learn to find the relation between the images and the labels\n",
        "- Ask the model to make predictions based on the testing images, and verify the accuracy with the testing labels"
      ],
      "metadata": {
        "id": "IeE_W4jmMa8f"
      }
    },
    {
      "cell_type": "code",
      "source": [
        "model.fit(train_images, train_labels, epochs=10)"
      ],
      "metadata": {
        "colab": {
          "base_uri": "https://localhost:8080/"
        },
        "id": "kSgdqb3yNCog",
        "outputId": "c6de5246-da50-431c-afc0-257b7e87a17c"
      },
      "execution_count": 14,
      "outputs": [
        {
          "output_type": "stream",
          "name": "stdout",
          "text": [
            "Epoch 1/10\n",
            "1875/1875 [==============================] - 8s 4ms/step - loss: 0.2632 - accuracy: 0.9253\n",
            "Epoch 2/10\n",
            "1875/1875 [==============================] - 9s 5ms/step - loss: 0.1163 - accuracy: 0.9659\n",
            "Epoch 3/10\n",
            "1875/1875 [==============================] - 9s 5ms/step - loss: 0.0790 - accuracy: 0.9768\n",
            "Epoch 4/10\n",
            "1875/1875 [==============================] - 7s 4ms/step - loss: 0.0582 - accuracy: 0.9826\n",
            "Epoch 5/10\n",
            "1875/1875 [==============================] - 9s 5ms/step - loss: 0.0461 - accuracy: 0.9862\n",
            "Epoch 6/10\n",
            "1875/1875 [==============================] - 10s 5ms/step - loss: 0.0340 - accuracy: 0.9893\n",
            "Epoch 7/10\n",
            "1875/1875 [==============================] - 9s 5ms/step - loss: 0.0274 - accuracy: 0.9914\n",
            "Epoch 8/10\n",
            "1875/1875 [==============================] - 9s 5ms/step - loss: 0.0222 - accuracy: 0.9930\n",
            "Epoch 9/10\n",
            "1875/1875 [==============================] - 9s 5ms/step - loss: 0.0179 - accuracy: 0.9945\n",
            "Epoch 10/10\n",
            "1875/1875 [==============================] - 8s 4ms/step - loss: 0.0153 - accuracy: 0.9953\n"
          ]
        },
        {
          "output_type": "execute_result",
          "data": {
            "text/plain": [
              "<keras.callbacks.History at 0x7f6b13fa9510>"
            ]
          },
          "metadata": {},
          "execution_count": 14
        }
      ]
    },
    {
      "cell_type": "markdown",
      "source": [
        "##**Checking Accuracy**\n",
        "Next, the testing data is used to make a measurement of the difference in accuracy."
      ],
      "metadata": {
        "id": "ZcYI9G1fNmwu"
      }
    },
    {
      "cell_type": "code",
      "source": [
        "test_loss, test_acc = model.evaluate(test_images,  test_labels, verbose=2)\n",
        "\n",
        "print('\\nTest accuracy:', test_acc)"
      ],
      "metadata": {
        "colab": {
          "base_uri": "https://localhost:8080/"
        },
        "id": "vi8PMPVVOlw0",
        "outputId": "4a963aa3-6aaf-4f99-a091-105ecf549881"
      },
      "execution_count": 15,
      "outputs": [
        {
          "output_type": "stream",
          "name": "stdout",
          "text": [
            "313/313 - 1s - loss: 0.0771 - accuracy: 0.9775 - 694ms/epoch - 2ms/step\n",
            "\n",
            "Test accuracy: 0.9775000214576721\n"
          ]
        }
      ]
    },
    {
      "cell_type": "markdown",
      "source": [
        "The accuracy is a bit lower to the training, but it is normal, and is due to overfitting. Overfitting is when the model is introduced to new information that it did not see in the training process."
      ],
      "metadata": {
        "id": "uWGWrIYxOpQT"
      }
    },
    {
      "cell_type": "markdown",
      "source": [
        "##**Making Predictions**\n",
        "Now we can make the model make predictions based on testing images.\n"
      ],
      "metadata": {
        "id": "xFVCY5KVPDLp"
      }
    },
    {
      "cell_type": "code",
      "source": [
        "predictions = model.predict(test_images)"
      ],
      "metadata": {
        "colab": {
          "base_uri": "https://localhost:8080/"
        },
        "id": "FhUf5y_TPCs1",
        "outputId": "6ce98524-bc88-4320-ac3a-d1099dc23b4a"
      },
      "execution_count": 16,
      "outputs": [
        {
          "output_type": "stream",
          "name": "stdout",
          "text": [
            "313/313 [==============================] - 1s 2ms/step\n"
          ]
        }
      ]
    },
    {
      "cell_type": "markdown",
      "source": [
        "Here a prediction is made, and is shown in a list with the class probability."
      ],
      "metadata": {
        "id": "Uh6dZk_SPpm7"
      }
    },
    {
      "cell_type": "code",
      "source": [
        "predictions[0]"
      ],
      "metadata": {
        "colab": {
          "base_uri": "https://localhost:8080/"
        },
        "id": "hv2E6r8EPwRd",
        "outputId": "f3169b3b-fa68-4766-c67f-cbe54d9f8624"
      },
      "execution_count": 17,
      "outputs": [
        {
          "output_type": "execute_result",
          "data": {
            "text/plain": [
              "array([2.9068277e-09, 7.4885014e-09, 9.6795027e-08, 6.5483277e-05,\n",
              "       7.3010403e-15, 3.6834476e-11, 1.8660644e-15, 9.9993402e-01,\n",
              "       7.9500584e-09, 3.2690764e-07], dtype=float32)"
            ]
          },
          "metadata": {},
          "execution_count": 17
        }
      ]
    },
    {
      "cell_type": "markdown",
      "source": [
        "The following code line chooses the highest probability from the list and makes the prediction."
      ],
      "metadata": {
        "id": "EKfNM2bDPzC3"
      }
    },
    {
      "cell_type": "code",
      "source": [
        "np.argmax(predictions[0])"
      ],
      "metadata": {
        "colab": {
          "base_uri": "https://localhost:8080/"
        },
        "id": "8olqfOqHPx11",
        "outputId": "2367e5bf-3b2f-4861-a8ed-1dae0bc445d2"
      },
      "execution_count": 18,
      "outputs": [
        {
          "output_type": "execute_result",
          "data": {
            "text/plain": [
              "7"
            ]
          },
          "metadata": {},
          "execution_count": 18
        }
      ]
    },
    {
      "cell_type": "markdown",
      "source": [
        "We can confirm the prediction by checking the class of the same image."
      ],
      "metadata": {
        "id": "QEqT2D0hQFLN"
      }
    },
    {
      "cell_type": "code",
      "source": [
        "test_labels[0]"
      ],
      "metadata": {
        "colab": {
          "base_uri": "https://localhost:8080/"
        },
        "id": "F3Ao5ZuMQKE3",
        "outputId": "a8ea34ae-7c6b-42f5-ae34-434a7d25f580"
      },
      "execution_count": 19,
      "outputs": [
        {
          "output_type": "execute_result",
          "data": {
            "text/plain": [
              "7"
            ]
          },
          "metadata": {},
          "execution_count": 19
        }
      ]
    },
    {
      "cell_type": "markdown",
      "source": [
        "The following code is provided to show the predictions, their probabilities and id they are correct or not."
      ],
      "metadata": {
        "id": "wPLBR2zWQLXg"
      }
    },
    {
      "cell_type": "code",
      "source": [
        "def plot_image(i, predictions_array, true_label, img):\n",
        "  predictions_array, true_label, img = predictions_array, true_label[i], img[i]\n",
        "  plt.grid(False)\n",
        "  plt.xticks([])\n",
        "  plt.yticks([])\n",
        "\n",
        "  plt.imshow(img, cmap=plt.cm.binary)\n",
        "\n",
        "  predicted_label = np.argmax(predictions_array)\n",
        "  if predicted_label == true_label:\n",
        "    color = 'blue'\n",
        "  else:\n",
        "    color = 'red'\n",
        "\n",
        "  plt.xlabel(\"{} {:2.0f}% ({})\".format(class_names[predicted_label],\n",
        "                                100*np.max(predictions_array),\n",
        "                                class_names[true_label]),\n",
        "                                color=color)\n",
        "\n",
        "def plot_value_array(i, predictions_array, true_label):\n",
        "  predictions_array, true_label = predictions_array, true_label[i]\n",
        "  plt.grid(False)\n",
        "  plt.xticks(range(10))\n",
        "  plt.yticks([])\n",
        "  thisplot = plt.bar(range(10), predictions_array, color=\"#777777\")\n",
        "  plt.ylim([0, 1])\n",
        "  predicted_label = np.argmax(predictions_array)\n",
        "\n",
        "  thisplot[predicted_label].set_color('red')\n",
        "  thisplot[true_label].set_color('blue')"
      ],
      "metadata": {
        "id": "fay6OstdQt8d"
      },
      "execution_count": 20,
      "outputs": []
    },
    {
      "cell_type": "markdown",
      "source": [
        "For the first image, the following code show the prediction side by side with the image."
      ],
      "metadata": {
        "id": "KzOlLJW5RAWD"
      }
    },
    {
      "cell_type": "code",
      "source": [
        "i = 0\n",
        "plt.figure(figsize=(6,3))\n",
        "plt.subplot(1,2,1)\n",
        "plot_image(i, predictions[i], test_labels, test_images)\n",
        "plt.subplot(1,2,2)\n",
        "plot_value_array(i, predictions[i],  test_labels)\n",
        "plt.show()"
      ],
      "metadata": {
        "colab": {
          "base_uri": "https://localhost:8080/",
          "height": 291
        },
        "id": "Y1f-dkVhQ_yn",
        "outputId": "55601502-1cbe-4dea-edad-f5356f1cc35a"
      },
      "execution_count": 21,
      "outputs": [
        {
          "output_type": "display_data",
          "data": {
            "text/plain": [
              "<Figure size 600x300 with 2 Axes>"
            ],
            "image/png": "[encoded data removed]"
          },
          "metadata": {}
        }
      ]
    },
    {
      "cell_type": "markdown",
      "source": [
        "Now we can show multiple images and the predictions made."
      ],
      "metadata": {
        "id": "ZSMWjHChRLt0"
      }
    },
    {
      "cell_type": "code",
      "source": [
        "num_rows = 5\n",
        "num_cols = 3\n",
        "num_images = num_rows*num_cols\n",
        "plt.figure(figsize=(2*2*num_cols, 2*num_rows))\n",
        "for i in range(num_images):\n",
        "  plt.subplot(num_rows, 2*num_cols, 2*i+1)\n",
        "  plot_image(i, predictions[i], test_labels, test_images)\n",
        "  plt.subplot(num_rows, 2*num_cols, 2*i+2)\n",
        "  plot_value_array(i, predictions[i], test_labels)\n",
        "plt.tight_layout()\n",
        "plt.show()"
      ],
      "metadata": {
        "colab": {
          "base_uri": "https://localhost:8080/",
          "height": 1000
        },
        "id": "eK8A3HrxRLIf",
        "outputId": "41bfd4f4-63db-4cea-cdfd-4826278a1fd1"
      },
      "execution_count": 22,
      "outputs": [
        {
          "output_type": "display_data",
          "data": {
            "text/plain": [
              "<Figure size 1200x1000 with 30 Axes>"
            ],
            "image/png": "[encoded data removed]"
          },
          "metadata": {}
        }
      ]
    },
    {
      "cell_type": "markdown",
      "source": [
        "#**Results and Conclusions**\n",
        "The training part in it's last epoch had a really high accuracy, of around 99.5% this is almost assuring that almost every prediction will be correct. However, when the testing phase came, the accuracy dropped down a bit, only by 2% approximately. Which is justifiable because of the overfitting that can occur when presenting a model with new information. However it can adapt and learn from these mistakes to become even more accurate.\n",
        "\n",
        "In the last code lines, the images were displayed with their corresponding prediction percentages. And only one of them was wrong, a 5 that looked like a 6, which personally, me as a human might have also mistaken the number. So I think the model is highly capable of making predictions of numbers. And as we know, with more data, the model becomes better.\n",
        "\n",
        "This activity was relatively easy to perfom, due to the vast amount of information online and even in the community of tensorflow to learn and have a simple base to start off on. I find making, training and the process as a whole of making a model very intriguing, si I hope we can make more models based on more complex data."
      ],
      "metadata": {
        "id": "kWj2GbGgTHe1"
      }
    }
  ]
}
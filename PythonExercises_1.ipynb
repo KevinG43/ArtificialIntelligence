{
  "nbformat": 4,
  "nbformat_minor": 0,
  "metadata": {
    "colab": {
      "provenance": []
    },
    "kernelspec": {
      "name": "python3",
      "display_name": "Python 3"
    },
    "language_info": {
      "name": "python"
    }
  },
  "cells": [
    {
      "cell_type": "markdown",
      "source": [
        "**Kevin Gonzalez**\n",
        "\n",
        "**Student ID 1908434**\n",
        "\n",
        "**Artificial Intelligence**\n",
        "\n",
        "**Tuesday N4** "
      ],
      "metadata": {
        "id": "L2Yo9ICybuSV"
      }
    },
    {
      "cell_type": "markdown",
      "source": [
        "---\n",
        "***Program that will convert a decimal number into a binary number.*** "
      ],
      "metadata": {
        "id": "y4vriHcaBwEy"
      }
    },
    {
      "cell_type": "code",
      "source": [
        "decimal_num = int(input(\"Enter a decimal number: \"))\n",
        "binary_num = bin(decimal_num).replace(\"0b\",\"\")\n",
        "print(\"The binary conversion of \" + str(decimal_num) + \" is \" + str(binary_num))"
      ],
      "metadata": {
        "id": "EvVB0K3nCdWd"
      },
      "execution_count": null,
      "outputs": []
    },
    {
      "cell_type": "markdown",
      "source": [
        "1. First we input the decimal number that will be converted.\n",
        "2. Then we use the built in *bin* function to convert the decimal number into binary. (The .replace is used to eliminate the 0b that is placed when we use the *bin* function) \n",
        "3. Finally we print out the results with a string converter so that we can add them up and create a sentence."
      ],
      "metadata": {
        "id": "wPBeqO0mFaIR"
      }
    },
    {
      "cell_type": "markdown",
      "source": [
        "---\n",
        "\n",
        "***Program that make a math pyramid starting from a list of integers.***"
      ],
      "metadata": {
        "id": "NBCI-dlWCTwD"
      }
    },
    {
      "cell_type": "code",
      "source": [
        "number_input = input(\"Enter a list of numbers, with each one separated by a space: \")\n",
        "number_list = [int(x) for x in number_input.split()]\n",
        "print(number_list)\n",
        "while len(number_list) != 1:\n",
        "  for i in range(len(number_list)):\n",
        "    if i == (len(number_list)-1):\n",
        "      del number_list[i]\n",
        "    else:\n",
        "      number_list[i] = (number_list[i+1] + number_list[i])\n",
        "  print(number_list)"
      ],
      "metadata": {
        "id": "adUjF1ahFQ1V",
        "colab": {
          "base_uri": "https://localhost:8080/"
        },
        "outputId": "ee3510ba-8df1-426b-cca9-79ac25dfe5c7"
      },
      "execution_count": 25,
      "outputs": [
        {
          "output_type": "stream",
          "name": "stdout",
          "text": [
            "Enter a list of numbers, with each one separated by a space: 1 2 3\n",
            "[1, 2, 3]\n",
            "[3, 5]\n",
            "[8]\n"
          ]
        }
      ]
    },
    {
      "cell_type": "markdown",
      "source": [
        "1.   First we input a set of numbers in a string.\n",
        "2.   To convert this string into a list of ints, we use the split function, which will divide the string using the spaces between the numbers.\n",
        "3. Then, the numbers of the list are added to the one on the right, while the last element of the list is deleted.\n",
        "4. We print the list with the new values and repeat the process until there is only one element in the list."
      ],
      "metadata": {
        "id": "2wxs7mQJaBZ9"
      }
    }
  ]
}